{
 "cells": [
  {
   "cell_type": "markdown",
   "id": "3a92f75f-0f6a-42ff-8434-bbe70baf732c",
   "metadata": {},
   "source": [
    "# Q1. Explain Class and Object with respect to Object-Oriented Programming. Give a suitable example."
   ]
  },
  {
   "cell_type": "raw",
   "id": "c43fe603-6077-4e26-9459-aef5f95dfe40",
   "metadata": {},
   "source": [
    "Class = A class is considered as a blueprint of objects. We can think of the class as a sketch (prototype) of a house. It contains all the details about the floors, doors, windows, etc. Based on these descriptions we build the house. House is the object.\n",
    "\n",
    "Since many houses can be made from the same description, we can create many objects from a class.\n",
    "\n",
    "For example,\n"
   ]
  },
  {
   "cell_type": "raw",
   "id": "67d9d70e-fdff-454e-8b80-c47312c852a6",
   "metadata": {},
   "source": [
    "class bike:\n",
    "    name = \" \"\n",
    "    gear = 0"
   ]
  },
  {
   "cell_type": "raw",
   "id": "12ce7ec8-f6b4-463d-b2c1-f2bfd86f61fb",
   "metadata": {},
   "source": [
    "Here, we have created a class (bike)\n",
    "\n",
    "Bike - the name of the class\n",
    "name/gear - variables inside the class with default values \"\" and 0 respectively."
   ]
  },
  {
   "cell_type": "raw",
   "id": "1d2a6f9d-1a7b-46b3-9fc0-4dacd0bf4208",
   "metadata": {},
   "source": [
    "Object = An object is called an instance of a class. For example, suppose Bike is a class then we can create objects like bike1, bike2, etc from the class."
   ]
  },
  {
   "cell_type": "raw",
   "id": "3234c0c0-a8cc-49ac-8796-292e16d6c229",
   "metadata": {},
   "source": [
    "objectName = ClassName()\n",
    "\n",
    "Let's see an example,\n",
    "\n",
    "# create class\n",
    "class Bike:\n",
    "    name = \"\"\n",
    "    gear = 0\n",
    "\n",
    "# create objects of class\n",
    "bike1 = Bike()\n",
    "\n",
    "Here, bike1 is the object of the class. Now, we can use this object to access the class attributes."
   ]
  },
  {
   "cell_type": "code",
   "execution_count": 49,
   "id": "417aeb04-d19d-474f-8bb8-b07442be100e",
   "metadata": {},
   "outputs": [],
   "source": [
    "class Bike:\n",
    "    name = \"Mountain Bike\"\n",
    "    gear = 11"
   ]
  },
  {
   "cell_type": "code",
   "execution_count": 50,
   "id": "c5e6a97c-2903-4ccb-b28e-91173a213860",
   "metadata": {},
   "outputs": [],
   "source": [
    "bike1 = Bike()"
   ]
  },
  {
   "cell_type": "code",
   "execution_count": 51,
   "id": "ab755d79-502d-4096-ac36-f41f06fc99da",
   "metadata": {},
   "outputs": [
    {
     "data": {
      "text/plain": [
       "11"
      ]
     },
     "execution_count": 51,
     "metadata": {},
     "output_type": "execute_result"
    }
   ],
   "source": [
    "bike1.gear"
   ]
  },
  {
   "cell_type": "code",
   "execution_count": 52,
   "id": "ae8fca40-4f10-4744-91d1-7be34124a4bc",
   "metadata": {},
   "outputs": [
    {
     "data": {
      "text/plain": [
       "'Mountain Bike'"
      ]
     },
     "execution_count": 52,
     "metadata": {},
     "output_type": "execute_result"
    }
   ],
   "source": [
    "bike1.name"
   ]
  },
  {
   "cell_type": "markdown",
   "id": "0e69d3e6-0906-4fbf-80fe-e4273b4d30f6",
   "metadata": {},
   "source": [
    "# Q2. Name the four pillars of OOPs."
   ]
  },
  {
   "cell_type": "raw",
   "id": "eaeb2f73-b749-4666-8d83-8c139d44f140",
   "metadata": {},
   "source": [
    "Ans.- There are 4 pillars of oop:\n",
    "\n",
    "1) Encapsulation\n",
    "2) Inheritance\n",
    "3) Abstraction\n",
    "4) Polymorphism"
   ]
  },
  {
   "cell_type": "markdown",
   "id": "fa8b7b7b-4e2a-438d-9fbe-57c2530da7b2",
   "metadata": {},
   "source": [
    "Polymorphism = Same object having multipal behavior, This is called polymorphism.\n",
    "Example = I am a human body, but when I am with my family that time I will show my different behavior, like serious. Or when I am with my friend that time I will show my different behavior, like enjoyment."
   ]
  },
  {
   "cell_type": "markdown",
   "id": "71c7e927-0a3a-43a5-8c64-f54b029cc570",
   "metadata": {},
   "source": [
    "Encapsulation = Encapsulation is used to restrict access to methods and variables. In encapsulation, the variables of a class will be hidden from other classes, and can be accessed only through the methods of their current class.\n"
   ]
  },
  {
   "cell_type": "markdown",
   "id": "822cd9c8-578d-410a-884e-aa2a0a2a75b7",
   "metadata": {},
   "source": [
    "Inheritance = Inheritance allows us to define a class that inherits all the methods and properties from another class."
   ]
  },
  {
   "cell_type": "markdown",
   "id": "bc8aa99e-d541-4663-864f-f4cac548d174",
   "metadata": {},
   "source": [
    "Abstraction =  Abstraction in python is defined as a process of handling complexity by hiding unnecessary information from the user. This is one of the core concepts of object-oriented programming (OOP) languages."
   ]
  },
  {
   "cell_type": "markdown",
   "id": "1ffcf19f-9ac4-4cbf-97ef-28bd3ab70064",
   "metadata": {},
   "source": [
    "# Q3. Explain why the __init__() function is used. Give a suitable example."
   ]
  },
  {
   "cell_type": "raw",
   "id": "a6b134c4-0fd8-4aa3-aff8-f464ed1d6b9b",
   "metadata": {},
   "source": [
    "init = The examples above are classes and objects in their simplest form, and are not really useful in real life applications.\n",
    "\n",
    "To understand the meaning of classes we have to understand the built-in __init__() function.\n",
    "\n",
    "All classes have a function called __init__(), which is always executed when the class is being initiated."
   ]
  },
  {
   "cell_type": "code",
   "execution_count": 53,
   "id": "098a1129-965b-4a63-8f38-2a64e7cb59f6",
   "metadata": {},
   "outputs": [],
   "source": [
    "class info:\n",
    "    \n",
    "    def __init__(self, name , gender, number):\n",
    "        self.name = name \n",
    "        self.gender = gender\n",
    "        self.number = number\n",
    "        \n",
    "    def details(self):\n",
    "        return self.gender, self.name, self.number\n",
    "        \n",
    "    \n",
    "    "
   ]
  },
  {
   "cell_type": "code",
   "execution_count": 54,
   "id": "b75d34d8-fdcc-43e2-a338-d3481fb9e6b0",
   "metadata": {},
   "outputs": [],
   "source": [
    "x = info(\"Akash\",\"Male\", 79574656)"
   ]
  },
  {
   "cell_type": "code",
   "execution_count": 55,
   "id": "8a63d1bf-559f-4371-82f2-0c7bb871a99b",
   "metadata": {},
   "outputs": [
    {
     "data": {
      "text/plain": [
       "('Male', 'Akash', 79574656)"
      ]
     },
     "execution_count": 55,
     "metadata": {},
     "output_type": "execute_result"
    }
   ],
   "source": [
    "x.details()"
   ]
  },
  {
   "cell_type": "markdown",
   "id": "2f8d5b4f-b83b-45e5-8451-032739e759e3",
   "metadata": {},
   "source": [
    "# Q4. Why self is used in OOPs?"
   ]
  },
  {
   "cell_type": "markdown",
   "id": "271aab87-2849-495e-8160-37c810e00a13",
   "metadata": {},
   "source": [
    "Self = The self is used to represent the instance of the class. With this keyword, you can access the attributes and methods of the class in python. It binds the attributes with the given arguments. The reason why we use self is that Python does not use the ‘@’ syntax to refer to instance attributes."
   ]
  },
  {
   "cell_type": "markdown",
   "id": "6321109b-7ba1-4ca8-a5cf-4e63f868bbc9",
   "metadata": {},
   "source": [
    "# Q5. What is inheritance? Give an example for each type of inheritance."
   ]
  },
  {
   "cell_type": "markdown",
   "id": "6648ce5c-656a-41a1-9f4c-a4c10fca463a",
   "metadata": {},
   "source": [
    "Inheritance = Inheritance allows us to define a class that inherits all the methods and properties from another class. We have 2 type of inheritance\n",
    "1. multi lebal inheritance\n",
    "2. multipal inheritnce "
   ]
  },
  {
   "cell_type": "markdown",
   "id": "13d8b045-4432-4129-950e-9e163b2d8a8c",
   "metadata": {},
   "source": [
    "# Example of multipal inheritance"
   ]
  },
  {
   "cell_type": "code",
   "execution_count": 56,
   "id": "411ad255-312e-460a-908d-27d3da863f14",
   "metadata": {},
   "outputs": [],
   "source": [
    "class room1():\n",
    "    \n",
    "    def elglish(self):\n",
    "        return \"This is english class room\"\n",
    "    "
   ]
  },
  {
   "cell_type": "code",
   "execution_count": 57,
   "id": "97c7822b-8648-4659-8582-fbb507b49284",
   "metadata": {},
   "outputs": [],
   "source": [
    "class room2():\n",
    "    \n",
    "    def hindi(self):\n",
    "        return \"This is Hindi class room\""
   ]
  },
  {
   "cell_type": "code",
   "execution_count": 58,
   "id": "8c12dbb9-a035-42bb-a5b5-349df6608d4d",
   "metadata": {},
   "outputs": [],
   "source": [
    "class all_room_access(room1, room2):\n",
    "    pass"
   ]
  },
  {
   "cell_type": "code",
   "execution_count": 59,
   "id": "2d1e1723-0123-4143-a4b0-cc7d8adfdd9c",
   "metadata": {},
   "outputs": [],
   "source": [
    "access = all_room_access()"
   ]
  },
  {
   "cell_type": "code",
   "execution_count": 60,
   "id": "0ccb681f-106d-43ee-9182-e5f92ac0a204",
   "metadata": {},
   "outputs": [
    {
     "data": {
      "text/plain": [
       "'This is english class room'"
      ]
     },
     "execution_count": 60,
     "metadata": {},
     "output_type": "execute_result"
    }
   ],
   "source": [
    "access.elglish()"
   ]
  },
  {
   "cell_type": "code",
   "execution_count": 61,
   "id": "7275a95c-19ad-406a-9817-31058e100b80",
   "metadata": {},
   "outputs": [
    {
     "data": {
      "text/plain": [
       "'This is Hindi class room'"
      ]
     },
     "execution_count": 61,
     "metadata": {},
     "output_type": "execute_result"
    }
   ],
   "source": [
    "access.hindi()"
   ]
  },
  {
   "cell_type": "markdown",
   "id": "1791a813-65bb-4c08-a29c-4cc91c6e1153",
   "metadata": {},
   "source": [
    "# Example of multi lebal inheritance"
   ]
  },
  {
   "cell_type": "code",
   "execution_count": 62,
   "id": "314896cc-cd88-4518-867e-b98821f6b13e",
   "metadata": {},
   "outputs": [],
   "source": [
    "class grandfather():\n",
    "    \n",
    "    def bhadur(self):\n",
    "        return \"He is Grandfather\""
   ]
  },
  {
   "cell_type": "code",
   "execution_count": 63,
   "id": "d57a1239-4914-42e6-bd18-2906b9bd46b2",
   "metadata": {},
   "outputs": [],
   "source": [
    "class father(grandfather):\n",
    "    \n",
    "    def ganga(self):\n",
    "        return \"He is Father\""
   ]
  },
  {
   "cell_type": "code",
   "execution_count": 64,
   "id": "f939a123-50d3-4a00-afcc-f6d7d19fddc5",
   "metadata": {},
   "outputs": [],
   "source": [
    "class son(father):\n",
    "    def akash(self):\n",
    "        return \"He is son\""
   ]
  },
  {
   "cell_type": "code",
   "execution_count": 65,
   "id": "1ac1d659-8c72-484a-a5ba-f2d1d4e5dfce",
   "metadata": {},
   "outputs": [],
   "source": [
    "relationship = son()"
   ]
  },
  {
   "cell_type": "code",
   "execution_count": 66,
   "id": "54783998-163f-4dfe-a69f-7b626fef2cfb",
   "metadata": {},
   "outputs": [
    {
     "data": {
      "text/plain": [
       "'He is Grandfather'"
      ]
     },
     "execution_count": 66,
     "metadata": {},
     "output_type": "execute_result"
    }
   ],
   "source": [
    "relationship.bhadur()"
   ]
  },
  {
   "cell_type": "code",
   "execution_count": 67,
   "id": "ee61bafa-7ee8-46eb-b90c-1e6e6402ee34",
   "metadata": {},
   "outputs": [
    {
     "data": {
      "text/plain": [
       "'He is Father'"
      ]
     },
     "execution_count": 67,
     "metadata": {},
     "output_type": "execute_result"
    }
   ],
   "source": [
    "relationship.ganga()"
   ]
  },
  {
   "cell_type": "code",
   "execution_count": 68,
   "id": "22da2008-3332-4c79-9760-a128b20087e1",
   "metadata": {},
   "outputs": [
    {
     "data": {
      "text/plain": [
       "'He is son'"
      ]
     },
     "execution_count": 68,
     "metadata": {},
     "output_type": "execute_result"
    }
   ],
   "source": [
    "relationship.akash()"
   ]
  },
  {
   "cell_type": "code",
   "execution_count": null,
   "id": "0750a304-928c-4382-a03a-38a0c67e3b6f",
   "metadata": {},
   "outputs": [],
   "source": []
  },
  {
   "cell_type": "code",
   "execution_count": null,
   "id": "535d85de-6882-463c-a010-0268eb5d70f6",
   "metadata": {},
   "outputs": [],
   "source": []
  },
  {
   "cell_type": "code",
   "execution_count": null,
   "id": "29ef3e17-50b0-4e5c-acb1-0992d5f677a4",
   "metadata": {},
   "outputs": [],
   "source": []
  }
 ],
 "metadata": {
  "kernelspec": {
   "display_name": "Python 3 (ipykernel)",
   "language": "python",
   "name": "python3"
  },
  "language_info": {
   "codemirror_mode": {
    "name": "ipython",
    "version": 3
   },
   "file_extension": ".py",
   "mimetype": "text/x-python",
   "name": "python",
   "nbconvert_exporter": "python",
   "pygments_lexer": "ipython3",
   "version": "3.10.8"
  }
 },
 "nbformat": 4,
 "nbformat_minor": 5
}
